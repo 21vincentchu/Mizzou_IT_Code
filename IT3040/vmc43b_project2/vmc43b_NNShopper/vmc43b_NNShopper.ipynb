{
 "cells": [
  {
   "cell_type": "code",
   "execution_count": 52,
   "id": "a4cca0c6-8d9c-4c4e-93bb-6316d40ea87e",
   "metadata": {},
   "outputs": [],
   "source": [
    "# Visualize training history\n",
    "import matplotlib.pyplot as plt\n",
    "import numpy as np\n",
    "import tensorflow as tf\n",
    "from tensorflow.keras.models import Sequential\n",
    "from tensorflow.keras.layers import Dense\n",
    "from sklearn.preprocessing import StandardScaler\n",
    "from sklearn.model_selection import train_test_split\n",
    "from tensorflow.keras.regularizers import l2\n",
    "import math\n",
    "import pandas as pd\n",
    "from mlxtend.plotting import plot_confusion_matrix\n",
    "from sklearn.metrics import precision_score, recall_score, f1_score\n",
    "from sklearn.metrics import confusion_matrix\n",
    "\n",
    "#create a path to the file\n",
    "\n",
    "file_path = \"shopping.csv\"\n",
    "\n",
    "#read the csv file a pandas dataframe\n",
    "df = pd.read_csv(file_path)\n",
    "\n",
    "#print the dataframe column data types\n"
   ]
  },
  {
   "cell_type": "code",
   "execution_count": 53,
   "id": "a48de72d-3f35-4afb-8448-73077ff755e3",
   "metadata": {},
   "outputs": [],
   "source": [
    "#define a mapping scheme for the values not a number\n",
    "bool_mapping={\n",
    "    \"TRUE\":1,\n",
    "    \"FALSE\":0\n",
    "}\n",
    "\n",
    "visitor_mapping={\n",
    "    \"Returning_Visitor\":1,\n",
    "    \"New_Visitor\":2,\n",
    "    \"Other\":3\n",
    "}\n",
    "\n",
    "month_mapping={\n",
    "    \"Jan\":1,\n",
    "    \"Feb\":2,\n",
    "    \"Mar\":3,\n",
    "    \"Apr\":4,\n",
    "    \"May\":5,\n",
    "    \"June\":6,\n",
    "    \"Jul\":7,\n",
    "    \"Aug\":8,\n",
    "    \"Sep\":9,\n",
    "    \"Oct\":10,\n",
    "    \"Nov\":11,\n",
    "    \"Dec\":12\n",
    "}"
   ]
  },
  {
   "cell_type": "code",
   "execution_count": 54,
   "id": "a7fd3ec1-42cb-41bf-8991-64da905e666e",
   "metadata": {},
   "outputs": [],
   "source": [
    "\n",
    "df['Revenue']=df['Revenue'].astype(str)\n",
    "df['Weekend']=df['Weekend'].astype(str)\n",
    "df['Revenue'] = df['Revenue'].str.upper()\n",
    "df['Weekend'] = df['Weekend'].str.upper()"
   ]
  },
  {
   "cell_type": "code",
   "execution_count": 56,
   "id": "076827dc-0516-42bf-a25e-fc0e5d1f22ce",
   "metadata": {},
   "outputs": [],
   "source": [
    "df['Month'] = df['Month'].replace(month_mapping)\n",
    "df['VisitorType'] = df['VisitorType'].replace(visitor_mapping)\n",
    "df['Revenue'] = df['Revenue'].replace(bool_mapping)  \n",
    "df['Weekend'] = df['Weekend'].replace(bool_mapping)"
   ]
  },
  {
   "cell_type": "code",
   "execution_count": 57,
   "id": "7256bf2e-ce69-4956-8bde-617535223ea7",
   "metadata": {},
   "outputs": [],
   "source": [
    "# Convert columns to appropriate types\n",
    "type_conversion = {\n",
    "    'Month': 'int32',\n",
    "    'VisitorType': 'int32',\n",
    "    'Revenue': 'int32',\n",
    "    'Weekend': 'int32',\n",
    "    'Administrative': 'int32',\n",
    "    'Administrative_Duration': 'float32',\n",
    "    'Informational': 'int32',\n",
    "    'Informational_Duration': 'float32',\n",
    "    'ProductRelated': 'int32',\n",
    "    'ProductRelated_Duration': 'float32',\n",
    "    'BounceRates': 'float32',\n",
    "    'ExitRates': 'float32',\n",
    "    'PageValues': 'float32',\n",
    "    'SpecialDay': 'float32',\n",
    "    'OperatingSystems': 'int32',\n",
    "    'Browser': 'int32',\n",
    "    'Region': 'int32',\n",
    "    'TrafficType': 'int32'\n",
    "}\n",
    "\n",
    "# Apply conversions\n",
    "df = df.astype(type_conversion)"
   ]
  },
  {
   "cell_type": "code",
   "execution_count": 58,
   "id": "d9a2ca6f-8f79-4270-a392-8a42130a84b8",
   "metadata": {},
   "outputs": [],
   "source": [
    "def sigmoid(z):\n",
    "    \n",
    "    g = 1 / (1 + math.e**-z)\n",
    "    \n",
    "    return g"
   ]
  },
  {
   "cell_type": "code",
   "execution_count": 59,
   "id": "e830036f-c4b6-477a-8f88-b80c6b4f40a8",
   "metadata": {},
   "outputs": [],
   "source": [
    "def calculate_accuracy(labels, predictions):\n",
    "    \n",
    "    # Calculate the number of correct predictions by comparing 'labels' and 'predictions'\n",
    "    correct_predictions = np.sum(labels == predictions)\n",
    "    \n",
    "    # Calculate the total number of predictions\n",
    "    total_predictions = len(labels)\n",
    "    \n",
    "    # Calculate the accuracy as a percentage\n",
    "    accuracy_percentage = (correct_predictions / total_predictions) * 100.0\n",
    "    \n",
    "    print(f\"Accuracy: {accuracy_percentage:.2f}%\")"
   ]
  },
  {
   "cell_type": "code",
   "execution_count": 60,
   "id": "fa9ec93b-f47a-4a4d-af10-ee26cebce650",
   "metadata": {},
   "outputs": [],
   "source": [
    "#modfule ot create and display confusion matrix\n",
    "def print_confusion_matrix(true_labels, predictions):\n",
    "    #plot the confusion matrix\n",
    "    mat = confusion_matrix(true_labels, predictions)\n",
    "    plot_confusion_matrix(conf_mat=mat)\n",
    "\n",
    "    #calculate prcision, recall, f1 scores and display them\n",
    "    #precision\n",
    "    precision = precision_score(true_labels, predictions)\n",
    "\n",
    "    #recall\n",
    "    recall = recall_score(true_labels,predictions)\n",
    "\n",
    "    #f1 scoree\n",
    "    f1 = f1_score(true_labels, predictions)\n",
    "\n",
    "    #display precisionm, recall, f1 score\n",
    "    print(f\"Precision: {precision: .2f}\")\n",
    "    print(f\"Recall: {recall: .2f}\")\n",
    "    print(f\"f1 score: {f1: .2f}\")\n",
    "\n",
    "    return"
   ]
  },
  {
   "cell_type": "code",
   "execution_count": 61,
   "id": "32b88bca-b2ff-49cc-9115-8fedb03a600b",
   "metadata": {},
   "outputs": [],
   "source": [
    "#function to make prediction\n",
    "def get_predictions(feature_data):\n",
    "    #run feature data through the trained model to get the activations\n",
    "    logits = model(feature_data)\n",
    "\n",
    "    #get the prediction probability\n",
    "    logits = sigmoid(logits)\n",
    "\n",
    "    #get predictions\n",
    "    predictions = logits >= 0.5\n",
    "\n",
    "    #convert true to 1 and flase to 0\n",
    "    predictions = [int(boolean) for boolean in predictions]\n",
    "\n",
    "    return predictions"
   ]
  },
  {
   "cell_type": "code",
   "execution_count": 62,
   "id": "f7d10b58-5423-4c4c-8ccc-9fe6e9962234",
   "metadata": {},
   "outputs": [],
   "source": [
    "def load_data(df):\n",
    "    # Ensure the DataFrame is already transformed (with all floats and ints)\n",
    "    \n",
    "    # Split the data into features (X) and target (y)\n",
    "    X = df.iloc[:, :-1].values  # All columns except the last\n",
    "    y = df.iloc[:, -1].values    # The last column\n",
    "    \n",
    "    return X, y"
   ]
  },
  {
   "cell_type": "code",
   "execution_count": 63,
   "id": "251e275e-aa99-41cf-b63e-29f17c9c1bad",
   "metadata": {},
   "outputs": [
    {
     "name": "stdout",
     "output_type": "stream",
     "text": [
      "[[ 0.21173582  0.35206422 -0.38787235 ...  1.71636354 -0.39932615\n",
      "  -0.55763754]\n",
      " [ 1.11273931  2.00864764  1.14643284 ... -0.51300172 -0.39932615\n",
      "  -0.55763754]\n",
      " [-0.38893317 -0.21742069 -0.38787235 ... -0.51300172 -0.39932615\n",
      "  -0.55763754]\n",
      " ...\n",
      " [-0.68926767 -0.44844478 -0.38787235 ... -0.76070897 -0.39932615\n",
      "  -0.55763754]\n",
      " [-0.68926767 -0.44844478 -0.38787235 ... -0.51300172 -0.39932615\n",
      "   1.79327957]\n",
      " [-0.08859868 -0.3866511  -0.38787235 ... -0.76070897 -0.39932615\n",
      "  -0.55763754]]\n",
      "X shape: (5000, 17)\n",
      "Y shape: (5000,)\n"
     ]
    }
   ],
   "source": [
    "#load the dataset\n",
    "features, y = load_data(df)\n",
    "\n",
    "#scale the data using the standard scaler\n",
    "#Create a scaler object\n",
    "scaler = StandardScaler()\n",
    "\n",
    "X = scaler.fit_transform(features)\n",
    "print(X)\n",
    "print(f\"X shape: {X.shape}\")\n",
    "print(f\"Y shape: {y.shape}\")"
   ]
  },
  {
   "cell_type": "code",
   "execution_count": 64,
   "id": "ffcc8cc2-2c86-4497-b710-3c748c78abe8",
   "metadata": {},
   "outputs": [
    {
     "name": "stdout",
     "output_type": "stream",
     "text": [
      "X_train shape: (3000, 17)\n",
      "X_test shape: (1000, 17)\n",
      "X_cv shape: (1000, 17)\n",
      "y_train shape: (3000,)\n",
      "y_test shape: (1000,)\n",
      "y_cv shape: (1000,)\n",
      "float64 int32\n",
      "float64 int32\n",
      "[0. 1.]\n",
      "[0. 1.]\n"
     ]
    },
    {
     "data": {
      "text/plain": [
       "Administrative               int32\n",
       "Administrative_Duration    float32\n",
       "Informational                int32\n",
       "Informational_Duration     float32\n",
       "ProductRelated               int32\n",
       "ProductRelated_Duration    float32\n",
       "BounceRates                float32\n",
       "ExitRates                  float32\n",
       "PageValues                 float32\n",
       "SpecialDay                 float32\n",
       "Month                        int32\n",
       "OperatingSystems             int32\n",
       "Browser                      int32\n",
       "Region                       int32\n",
       "TrafficType                  int32\n",
       "VisitorType                  int32\n",
       "Weekend                      int32\n",
       "Revenue                      int32\n",
       "dtype: object"
      ]
     },
     "execution_count": 64,
     "metadata": {},
     "output_type": "execute_result"
    }
   ],
   "source": [
    "#Split the training data into training, Cross validation, and test sets\n",
    "X_train, X_test, y_train, y_test = train_test_split(X, y, test_size=0.4, random_state=42)\n",
    "#splits to 60:40\n",
    "\n",
    "#split the test set 50:50 for the cs and test sets. splits the 40 into half. so 60:20:20\n",
    "X_test, X_cv, y_test, y_cv = train_test_split(X_test, y_test, test_size = 0.5)\n",
    "\n",
    "#print the shapes of the resulting sets\n",
    "print(f\"X_train shape: {X_train.shape}\")\n",
    "print(f\"X_test shape: {X_test.shape}\")\n",
    "print(f\"X_cv shape: {X_cv.shape}\")\n",
    "\n",
    "\n",
    "print(f\"y_train shape: {y_train.shape}\")\n",
    "print(f\"y_test shape: {y_test.shape}\")\n",
    "print(f\"y_cv shape: {y_cv.shape}\")\n",
    "\n",
    "print(X_train.dtype, y_train.dtype)\n",
    "print(X_cv.dtype, y_cv.dtype)\n",
    "df.dtypes\n",
    "y_train = y_train.astype('float32')\n",
    "y_cv = y_cv.astype('float32')\n",
    "print(np.unique(y_train))\n",
    "print(np.unique(y_cv))\n",
    "df.dtypes\n"
   ]
  },
  {
   "cell_type": "code",
   "execution_count": 65,
   "id": "697fc9bb-466e-4470-ae79-07044a071f31",
   "metadata": {},
   "outputs": [
    {
     "data": {
      "text/html": [
       "<pre style=\"white-space:pre;overflow-x:auto;line-height:normal;font-family:Menlo,'DejaVu Sans Mono',consolas,'Courier New',monospace\"><span style=\"font-weight: bold\">Model: \"sequential_6\"</span>\n",
       "</pre>\n"
      ],
      "text/plain": [
       "\u001b[1mModel: \"sequential_6\"\u001b[0m\n"
      ]
     },
     "metadata": {},
     "output_type": "display_data"
    },
    {
     "data": {
      "text/html": [
       "<pre style=\"white-space:pre;overflow-x:auto;line-height:normal;font-family:Menlo,'DejaVu Sans Mono',consolas,'Courier New',monospace\">┏━━━━━━━━━━━━━━━━━━━━━━━━━━━━━━━━━┳━━━━━━━━━━━━━━━━━━━━━━━━┳━━━━━━━━━━━━━━━┓\n",
       "┃<span style=\"font-weight: bold\"> Layer (type)                    </span>┃<span style=\"font-weight: bold\"> Output Shape           </span>┃<span style=\"font-weight: bold\">       Param # </span>┃\n",
       "┡━━━━━━━━━━━━━━━━━━━━━━━━━━━━━━━━━╇━━━━━━━━━━━━━━━━━━━━━━━━╇━━━━━━━━━━━━━━━┩\n",
       "│ dense_28 (<span style=\"color: #0087ff; text-decoration-color: #0087ff\">Dense</span>)                │ (<span style=\"color: #00d7ff; text-decoration-color: #00d7ff\">None</span>, <span style=\"color: #00af00; text-decoration-color: #00af00\">14</span>)             │           <span style=\"color: #00af00; text-decoration-color: #00af00\">252</span> │\n",
       "├─────────────────────────────────┼────────────────────────┼───────────────┤\n",
       "│ dense_29 (<span style=\"color: #0087ff; text-decoration-color: #0087ff\">Dense</span>)                │ (<span style=\"color: #00d7ff; text-decoration-color: #00d7ff\">None</span>, <span style=\"color: #00af00; text-decoration-color: #00af00\">7</span>)              │           <span style=\"color: #00af00; text-decoration-color: #00af00\">105</span> │\n",
       "├─────────────────────────────────┼────────────────────────┼───────────────┤\n",
       "│ dense_30 (<span style=\"color: #0087ff; text-decoration-color: #0087ff\">Dense</span>)                │ (<span style=\"color: #00d7ff; text-decoration-color: #00d7ff\">None</span>, <span style=\"color: #00af00; text-decoration-color: #00af00\">4</span>)              │            <span style=\"color: #00af00; text-decoration-color: #00af00\">32</span> │\n",
       "├─────────────────────────────────┼────────────────────────┼───────────────┤\n",
       "│ dense_31 (<span style=\"color: #0087ff; text-decoration-color: #0087ff\">Dense</span>)                │ (<span style=\"color: #00d7ff; text-decoration-color: #00d7ff\">None</span>, <span style=\"color: #00af00; text-decoration-color: #00af00\">1</span>)              │             <span style=\"color: #00af00; text-decoration-color: #00af00\">5</span> │\n",
       "└─────────────────────────────────┴────────────────────────┴───────────────┘\n",
       "</pre>\n"
      ],
      "text/plain": [
       "┏━━━━━━━━━━━━━━━━━━━━━━━━━━━━━━━━━┳━━━━━━━━━━━━━━━━━━━━━━━━┳━━━━━━━━━━━━━━━┓\n",
       "┃\u001b[1m \u001b[0m\u001b[1mLayer (type)                   \u001b[0m\u001b[1m \u001b[0m┃\u001b[1m \u001b[0m\u001b[1mOutput Shape          \u001b[0m\u001b[1m \u001b[0m┃\u001b[1m \u001b[0m\u001b[1m      Param #\u001b[0m\u001b[1m \u001b[0m┃\n",
       "┡━━━━━━━━━━━━━━━━━━━━━━━━━━━━━━━━━╇━━━━━━━━━━━━━━━━━━━━━━━━╇━━━━━━━━━━━━━━━┩\n",
       "│ dense_28 (\u001b[38;5;33mDense\u001b[0m)                │ (\u001b[38;5;45mNone\u001b[0m, \u001b[38;5;34m14\u001b[0m)             │           \u001b[38;5;34m252\u001b[0m │\n",
       "├─────────────────────────────────┼────────────────────────┼───────────────┤\n",
       "│ dense_29 (\u001b[38;5;33mDense\u001b[0m)                │ (\u001b[38;5;45mNone\u001b[0m, \u001b[38;5;34m7\u001b[0m)              │           \u001b[38;5;34m105\u001b[0m │\n",
       "├─────────────────────────────────┼────────────────────────┼───────────────┤\n",
       "│ dense_30 (\u001b[38;5;33mDense\u001b[0m)                │ (\u001b[38;5;45mNone\u001b[0m, \u001b[38;5;34m4\u001b[0m)              │            \u001b[38;5;34m32\u001b[0m │\n",
       "├─────────────────────────────────┼────────────────────────┼───────────────┤\n",
       "│ dense_31 (\u001b[38;5;33mDense\u001b[0m)                │ (\u001b[38;5;45mNone\u001b[0m, \u001b[38;5;34m1\u001b[0m)              │             \u001b[38;5;34m5\u001b[0m │\n",
       "└─────────────────────────────────┴────────────────────────┴───────────────┘\n"
      ]
     },
     "metadata": {},
     "output_type": "display_data"
    },
    {
     "data": {
      "text/html": [
       "<pre style=\"white-space:pre;overflow-x:auto;line-height:normal;font-family:Menlo,'DejaVu Sans Mono',consolas,'Courier New',monospace\"><span style=\"font-weight: bold\"> Total params: </span><span style=\"color: #00af00; text-decoration-color: #00af00\">394</span> (1.54 KB)\n",
       "</pre>\n"
      ],
      "text/plain": [
       "\u001b[1m Total params: \u001b[0m\u001b[38;5;34m394\u001b[0m (1.54 KB)\n"
      ]
     },
     "metadata": {},
     "output_type": "display_data"
    },
    {
     "data": {
      "text/html": [
       "<pre style=\"white-space:pre;overflow-x:auto;line-height:normal;font-family:Menlo,'DejaVu Sans Mono',consolas,'Courier New',monospace\"><span style=\"font-weight: bold\"> Trainable params: </span><span style=\"color: #00af00; text-decoration-color: #00af00\">394</span> (1.54 KB)\n",
       "</pre>\n"
      ],
      "text/plain": [
       "\u001b[1m Trainable params: \u001b[0m\u001b[38;5;34m394\u001b[0m (1.54 KB)\n"
      ]
     },
     "metadata": {},
     "output_type": "display_data"
    },
    {
     "data": {
      "text/html": [
       "<pre style=\"white-space:pre;overflow-x:auto;line-height:normal;font-family:Menlo,'DejaVu Sans Mono',consolas,'Courier New',monospace\"><span style=\"font-weight: bold\"> Non-trainable params: </span><span style=\"color: #00af00; text-decoration-color: #00af00\">0</span> (0.00 B)\n",
       "</pre>\n"
      ],
      "text/plain": [
       "\u001b[1m Non-trainable params: \u001b[0m\u001b[38;5;34m0\u001b[0m (0.00 B)\n"
      ]
     },
     "metadata": {},
     "output_type": "display_data"
    },
    {
     "name": "stdout",
     "output_type": "stream",
     "text": [
      "Epoch 1/50\n",
      "\u001b[1m94/94\u001b[0m \u001b[32m━━━━━━━━━━━━━━━━━━━━\u001b[0m\u001b[37m\u001b[0m \u001b[1m1s\u001b[0m 3ms/step - accuracy: 0.8022 - loss: 0.7495 - val_accuracy: 0.8280 - val_loss: 0.6942\n",
      "Epoch 2/50\n",
      "\u001b[1m94/94\u001b[0m \u001b[32m━━━━━━━━━━━━━━━━━━━━\u001b[0m\u001b[37m\u001b[0m \u001b[1m0s\u001b[0m 2ms/step - accuracy: 0.8512 - loss: 0.6865 - val_accuracy: 0.8300 - val_loss: 0.6589\n",
      "Epoch 3/50\n",
      "\u001b[1m94/94\u001b[0m \u001b[32m━━━━━━━━━━━━━━━━━━━━\u001b[0m\u001b[37m\u001b[0m \u001b[1m0s\u001b[0m 2ms/step - accuracy: 0.8482 - loss: 0.6486 - val_accuracy: 0.8300 - val_loss: 0.6188\n",
      "Epoch 4/50\n",
      "\u001b[1m94/94\u001b[0m \u001b[32m━━━━━━━━━━━━━━━━━━━━\u001b[0m\u001b[37m\u001b[0m \u001b[1m0s\u001b[0m 2ms/step - accuracy: 0.8585 - loss: 0.5996 - val_accuracy: 0.8320 - val_loss: 0.5496\n",
      "Epoch 5/50\n",
      "\u001b[1m94/94\u001b[0m \u001b[32m━━━━━━━━━━━━━━━━━━━━\u001b[0m\u001b[37m\u001b[0m \u001b[1m0s\u001b[0m 2ms/step - accuracy: 0.8480 - loss: 0.5253 - val_accuracy: 0.8340 - val_loss: 0.4585\n",
      "Epoch 6/50\n",
      "\u001b[1m94/94\u001b[0m \u001b[32m━━━━━━━━━━━━━━━━━━━━\u001b[0m\u001b[37m\u001b[0m \u001b[1m0s\u001b[0m 2ms/step - accuracy: 0.8655 - loss: 0.4144 - val_accuracy: 0.8470 - val_loss: 0.3979\n",
      "Epoch 7/50\n",
      "\u001b[1m94/94\u001b[0m \u001b[32m━━━━━━━━━━━━━━━━━━━━\u001b[0m\u001b[37m\u001b[0m \u001b[1m0s\u001b[0m 2ms/step - accuracy: 0.8711 - loss: 0.3588 - val_accuracy: 0.8490 - val_loss: 0.3705\n",
      "Epoch 8/50\n",
      "\u001b[1m94/94\u001b[0m \u001b[32m━━━━━━━━━━━━━━━━━━━━\u001b[0m\u001b[37m\u001b[0m \u001b[1m0s\u001b[0m 2ms/step - accuracy: 0.8835 - loss: 0.3238 - val_accuracy: 0.8500 - val_loss: 0.3562\n",
      "Epoch 9/50\n",
      "\u001b[1m94/94\u001b[0m \u001b[32m━━━━━━━━━━━━━━━━━━━━\u001b[0m\u001b[37m\u001b[0m \u001b[1m0s\u001b[0m 2ms/step - accuracy: 0.8888 - loss: 0.3033 - val_accuracy: 0.8500 - val_loss: 0.3480\n",
      "Epoch 10/50\n",
      "\u001b[1m94/94\u001b[0m \u001b[32m━━━━━━━━━━━━━━━━━━━━\u001b[0m\u001b[37m\u001b[0m \u001b[1m0s\u001b[0m 2ms/step - accuracy: 0.8787 - loss: 0.3106 - val_accuracy: 0.8500 - val_loss: 0.3443\n",
      "Epoch 11/50\n",
      "\u001b[1m94/94\u001b[0m \u001b[32m━━━━━━━━━━━━━━━━━━━━\u001b[0m\u001b[37m\u001b[0m \u001b[1m0s\u001b[0m 2ms/step - accuracy: 0.8816 - loss: 0.2912 - val_accuracy: 0.8490 - val_loss: 0.3421\n",
      "Epoch 12/50\n",
      "\u001b[1m94/94\u001b[0m \u001b[32m━━━━━━━━━━━━━━━━━━━━\u001b[0m\u001b[37m\u001b[0m \u001b[1m0s\u001b[0m 2ms/step - accuracy: 0.8891 - loss: 0.2833 - val_accuracy: 0.8510 - val_loss: 0.3394\n",
      "Epoch 13/50\n",
      "\u001b[1m94/94\u001b[0m \u001b[32m━━━━━━━━━━━━━━━━━━━━\u001b[0m\u001b[37m\u001b[0m \u001b[1m0s\u001b[0m 2ms/step - accuracy: 0.8848 - loss: 0.2723 - val_accuracy: 0.8510 - val_loss: 0.3373\n",
      "Epoch 14/50\n",
      "\u001b[1m94/94\u001b[0m \u001b[32m━━━━━━━━━━━━━━━━━━━━\u001b[0m\u001b[37m\u001b[0m \u001b[1m0s\u001b[0m 2ms/step - accuracy: 0.8847 - loss: 0.2724 - val_accuracy: 0.8520 - val_loss: 0.3355\n",
      "Epoch 15/50\n",
      "\u001b[1m94/94\u001b[0m \u001b[32m━━━━━━━━━━━━━━━━━━━━\u001b[0m\u001b[37m\u001b[0m \u001b[1m0s\u001b[0m 2ms/step - accuracy: 0.8969 - loss: 0.2603 - val_accuracy: 0.8530 - val_loss: 0.3340\n",
      "Epoch 16/50\n",
      "\u001b[1m94/94\u001b[0m \u001b[32m━━━━━━━━━━━━━━━━━━━━\u001b[0m\u001b[37m\u001b[0m \u001b[1m0s\u001b[0m 2ms/step - accuracy: 0.8865 - loss: 0.2756 - val_accuracy: 0.8520 - val_loss: 0.3334\n",
      "Epoch 17/50\n",
      "\u001b[1m94/94\u001b[0m \u001b[32m━━━━━━━━━━━━━━━━━━━━\u001b[0m\u001b[37m\u001b[0m \u001b[1m0s\u001b[0m 2ms/step - accuracy: 0.8750 - loss: 0.2902 - val_accuracy: 0.8540 - val_loss: 0.3309\n",
      "Epoch 18/50\n",
      "\u001b[1m94/94\u001b[0m \u001b[32m━━━━━━━━━━━━━━━━━━━━\u001b[0m\u001b[37m\u001b[0m \u001b[1m0s\u001b[0m 2ms/step - accuracy: 0.8921 - loss: 0.2662 - val_accuracy: 0.8540 - val_loss: 0.3314\n",
      "Epoch 19/50\n",
      "\u001b[1m94/94\u001b[0m \u001b[32m━━━━━━━━━━━━━━━━━━━━\u001b[0m\u001b[37m\u001b[0m \u001b[1m0s\u001b[0m 2ms/step - accuracy: 0.8871 - loss: 0.2702 - val_accuracy: 0.8580 - val_loss: 0.3280\n",
      "Epoch 20/50\n",
      "\u001b[1m94/94\u001b[0m \u001b[32m━━━━━━━━━━━━━━━━━━━━\u001b[0m\u001b[37m\u001b[0m \u001b[1m0s\u001b[0m 2ms/step - accuracy: 0.8905 - loss: 0.2529 - val_accuracy: 0.8560 - val_loss: 0.3278\n",
      "Epoch 21/50\n",
      "\u001b[1m94/94\u001b[0m \u001b[32m━━━━━━━━━━━━━━━━━━━━\u001b[0m\u001b[37m\u001b[0m \u001b[1m0s\u001b[0m 2ms/step - accuracy: 0.8915 - loss: 0.2594 - val_accuracy: 0.8590 - val_loss: 0.3255\n",
      "Epoch 22/50\n",
      "\u001b[1m94/94\u001b[0m \u001b[32m━━━━━━━━━━━━━━━━━━━━\u001b[0m\u001b[37m\u001b[0m \u001b[1m0s\u001b[0m 2ms/step - accuracy: 0.8987 - loss: 0.2436 - val_accuracy: 0.8600 - val_loss: 0.3242\n",
      "Epoch 23/50\n",
      "\u001b[1m94/94\u001b[0m \u001b[32m━━━━━━━━━━━━━━━━━━━━\u001b[0m\u001b[37m\u001b[0m \u001b[1m0s\u001b[0m 2ms/step - accuracy: 0.8887 - loss: 0.2757 - val_accuracy: 0.8600 - val_loss: 0.3235\n",
      "Epoch 24/50\n",
      "\u001b[1m94/94\u001b[0m \u001b[32m━━━━━━━━━━━━━━━━━━━━\u001b[0m\u001b[37m\u001b[0m \u001b[1m0s\u001b[0m 2ms/step - accuracy: 0.8911 - loss: 0.2515 - val_accuracy: 0.8590 - val_loss: 0.3220\n",
      "Epoch 25/50\n",
      "\u001b[1m94/94\u001b[0m \u001b[32m━━━━━━━━━━━━━━━━━━━━\u001b[0m\u001b[37m\u001b[0m \u001b[1m0s\u001b[0m 2ms/step - accuracy: 0.8966 - loss: 0.2541 - val_accuracy: 0.8600 - val_loss: 0.3205\n",
      "Epoch 26/50\n",
      "\u001b[1m94/94\u001b[0m \u001b[32m━━━━━━━━━━━━━━━━━━━━\u001b[0m\u001b[37m\u001b[0m \u001b[1m0s\u001b[0m 2ms/step - accuracy: 0.9068 - loss: 0.2345 - val_accuracy: 0.8590 - val_loss: 0.3186\n",
      "Epoch 27/50\n",
      "\u001b[1m94/94\u001b[0m \u001b[32m━━━━━━━━━━━━━━━━━━━━\u001b[0m\u001b[37m\u001b[0m \u001b[1m0s\u001b[0m 2ms/step - accuracy: 0.8944 - loss: 0.2538 - val_accuracy: 0.8590 - val_loss: 0.3196\n",
      "Epoch 28/50\n",
      "\u001b[1m94/94\u001b[0m \u001b[32m━━━━━━━━━━━━━━━━━━━━\u001b[0m\u001b[37m\u001b[0m \u001b[1m0s\u001b[0m 2ms/step - accuracy: 0.8902 - loss: 0.2560 - val_accuracy: 0.8590 - val_loss: 0.3179\n",
      "Epoch 29/50\n",
      "\u001b[1m94/94\u001b[0m \u001b[32m━━━━━━━━━━━━━━━━━━━━\u001b[0m\u001b[37m\u001b[0m \u001b[1m0s\u001b[0m 2ms/step - accuracy: 0.8904 - loss: 0.2608 - val_accuracy: 0.8610 - val_loss: 0.3167\n",
      "Epoch 30/50\n",
      "\u001b[1m94/94\u001b[0m \u001b[32m━━━━━━━━━━━━━━━━━━━━\u001b[0m\u001b[37m\u001b[0m \u001b[1m0s\u001b[0m 2ms/step - accuracy: 0.9014 - loss: 0.2389 - val_accuracy: 0.8600 - val_loss: 0.3164\n",
      "Epoch 31/50\n",
      "\u001b[1m94/94\u001b[0m \u001b[32m━━━━━━━━━━━━━━━━━━━━\u001b[0m\u001b[37m\u001b[0m \u001b[1m0s\u001b[0m 2ms/step - accuracy: 0.8909 - loss: 0.2574 - val_accuracy: 0.8600 - val_loss: 0.3144\n",
      "Epoch 32/50\n",
      "\u001b[1m94/94\u001b[0m \u001b[32m━━━━━━━━━━━━━━━━━━━━\u001b[0m\u001b[37m\u001b[0m \u001b[1m0s\u001b[0m 2ms/step - accuracy: 0.8963 - loss: 0.2447 - val_accuracy: 0.8600 - val_loss: 0.3132\n",
      "Epoch 33/50\n",
      "\u001b[1m94/94\u001b[0m \u001b[32m━━━━━━━━━━━━━━━━━━━━\u001b[0m\u001b[37m\u001b[0m \u001b[1m0s\u001b[0m 2ms/step - accuracy: 0.8975 - loss: 0.2411 - val_accuracy: 0.8610 - val_loss: 0.3126\n",
      "Epoch 34/50\n",
      "\u001b[1m94/94\u001b[0m \u001b[32m━━━━━━━━━━━━━━━━━━━━\u001b[0m\u001b[37m\u001b[0m \u001b[1m0s\u001b[0m 2ms/step - accuracy: 0.8949 - loss: 0.2456 - val_accuracy: 0.8620 - val_loss: 0.3113\n",
      "Epoch 35/50\n",
      "\u001b[1m94/94\u001b[0m \u001b[32m━━━━━━━━━━━━━━━━━━━━\u001b[0m\u001b[37m\u001b[0m \u001b[1m0s\u001b[0m 2ms/step - accuracy: 0.8973 - loss: 0.2458 - val_accuracy: 0.8600 - val_loss: 0.3123\n",
      "Epoch 36/50\n",
      "\u001b[1m94/94\u001b[0m \u001b[32m━━━━━━━━━━━━━━━━━━━━\u001b[0m\u001b[37m\u001b[0m \u001b[1m0s\u001b[0m 2ms/step - accuracy: 0.8981 - loss: 0.2405 - val_accuracy: 0.8620 - val_loss: 0.3109\n",
      "Epoch 37/50\n",
      "\u001b[1m94/94\u001b[0m \u001b[32m━━━━━━━━━━━━━━━━━━━━\u001b[0m\u001b[37m\u001b[0m \u001b[1m0s\u001b[0m 2ms/step - accuracy: 0.9025 - loss: 0.2298 - val_accuracy: 0.8640 - val_loss: 0.3098\n",
      "Epoch 38/50\n",
      "\u001b[1m94/94\u001b[0m \u001b[32m━━━━━━━━━━━━━━━━━━━━\u001b[0m\u001b[37m\u001b[0m \u001b[1m0s\u001b[0m 2ms/step - accuracy: 0.9005 - loss: 0.2334 - val_accuracy: 0.8620 - val_loss: 0.3099\n",
      "Epoch 39/50\n",
      "\u001b[1m94/94\u001b[0m \u001b[32m━━━━━━━━━━━━━━━━━━━━\u001b[0m\u001b[37m\u001b[0m \u001b[1m0s\u001b[0m 2ms/step - accuracy: 0.8986 - loss: 0.2395 - val_accuracy: 0.8640 - val_loss: 0.3075\n",
      "Epoch 40/50\n",
      "\u001b[1m94/94\u001b[0m \u001b[32m━━━━━━━━━━━━━━━━━━━━\u001b[0m\u001b[37m\u001b[0m \u001b[1m0s\u001b[0m 2ms/step - accuracy: 0.9033 - loss: 0.2402 - val_accuracy: 0.8620 - val_loss: 0.3077\n",
      "Epoch 41/50\n",
      "\u001b[1m94/94\u001b[0m \u001b[32m━━━━━━━━━━━━━━━━━━━━\u001b[0m\u001b[37m\u001b[0m \u001b[1m0s\u001b[0m 2ms/step - accuracy: 0.9082 - loss: 0.2233 - val_accuracy: 0.8660 - val_loss: 0.3067\n",
      "Epoch 42/50\n",
      "\u001b[1m94/94\u001b[0m \u001b[32m━━━━━━━━━━━━━━━━━━━━\u001b[0m\u001b[37m\u001b[0m \u001b[1m0s\u001b[0m 2ms/step - accuracy: 0.9014 - loss: 0.2304 - val_accuracy: 0.8660 - val_loss: 0.3064\n",
      "Epoch 43/50\n",
      "\u001b[1m94/94\u001b[0m \u001b[32m━━━━━━━━━━━━━━━━━━━━\u001b[0m\u001b[37m\u001b[0m \u001b[1m0s\u001b[0m 2ms/step - accuracy: 0.9090 - loss: 0.2237 - val_accuracy: 0.8650 - val_loss: 0.3063\n",
      "Epoch 44/50\n",
      "\u001b[1m94/94\u001b[0m \u001b[32m━━━━━━━━━━━━━━━━━━━━\u001b[0m\u001b[37m\u001b[0m \u001b[1m0s\u001b[0m 2ms/step - accuracy: 0.8992 - loss: 0.2369 - val_accuracy: 0.8620 - val_loss: 0.3075\n",
      "Epoch 45/50\n",
      "\u001b[1m94/94\u001b[0m \u001b[32m━━━━━━━━━━━━━━━━━━━━\u001b[0m\u001b[37m\u001b[0m \u001b[1m0s\u001b[0m 2ms/step - accuracy: 0.8990 - loss: 0.2343 - val_accuracy: 0.8650 - val_loss: 0.3059\n",
      "Epoch 46/50\n",
      "\u001b[1m94/94\u001b[0m \u001b[32m━━━━━━━━━━━━━━━━━━━━\u001b[0m\u001b[37m\u001b[0m \u001b[1m0s\u001b[0m 2ms/step - accuracy: 0.9035 - loss: 0.2320 - val_accuracy: 0.8660 - val_loss: 0.3052\n",
      "Epoch 47/50\n",
      "\u001b[1m94/94\u001b[0m \u001b[32m━━━━━━━━━━━━━━━━━━━━\u001b[0m\u001b[37m\u001b[0m \u001b[1m0s\u001b[0m 2ms/step - accuracy: 0.9011 - loss: 0.2414 - val_accuracy: 0.8660 - val_loss: 0.3060\n",
      "Epoch 48/50\n",
      "\u001b[1m94/94\u001b[0m \u001b[32m━━━━━━━━━━━━━━━━━━━━\u001b[0m\u001b[37m\u001b[0m \u001b[1m0s\u001b[0m 2ms/step - accuracy: 0.8946 - loss: 0.2363 - val_accuracy: 0.8650 - val_loss: 0.3055\n",
      "Epoch 49/50\n",
      "\u001b[1m94/94\u001b[0m \u001b[32m━━━━━━━━━━━━━━━━━━━━\u001b[0m\u001b[37m\u001b[0m \u001b[1m0s\u001b[0m 2ms/step - accuracy: 0.8956 - loss: 0.2364 - val_accuracy: 0.8670 - val_loss: 0.3047\n",
      "Epoch 50/50\n",
      "\u001b[1m94/94\u001b[0m \u001b[32m━━━━━━━━━━━━━━━━━━━━\u001b[0m\u001b[37m\u001b[0m \u001b[1m0s\u001b[0m 2ms/step - accuracy: 0.9051 - loss: 0.2245 - val_accuracy: 0.8650 - val_loss: 0.3049\n",
      "dict_keys(['accuracy', 'loss', 'val_accuracy', 'val_loss'])\n"
     ]
    }
   ],
   "source": [
    "#create the model\n",
    "model = Sequential([\n",
    "    tf.keras.Input(shape=(17,)),\n",
    "    Dense(14, activation='relu'),\n",
    "    Dense(7, activation='relu'),\n",
    "    Dense(4, activation='relu'),\n",
    "    Dense(1, activation='linear')\n",
    "])\n",
    "\n",
    "#print model summary\n",
    "model.summary()\n",
    "\n",
    "#compile our model\n",
    "model.compile(\n",
    "    loss=tf.keras.losses.BinaryCrossentropy(from_logits=True),\n",
    "    optimizer = tf.keras.optimizers.Adam(0.0005),\n",
    "    metrics=['accuracy']\n",
    ")\n",
    "\n",
    "#fit the model\n",
    "history = model.fit(\n",
    "    X_train, y_train,\n",
    "    validation_data = [X_cv, y_cv],\n",
    "    epochs=50\n",
    ")\n",
    "\n",
    "#list the history data\n",
    "print(history.history.keys())\n"
   ]
  },
  {
   "cell_type": "code",
   "execution_count": 66,
   "id": "786ba85d-1d5b-4178-8849-2f7238163718",
   "metadata": {},
   "outputs": [
    {
     "data": {
      "image/png": "[encoded data removed]",
      "text/plain": [
       "<Figure size 640x480 with 1 Axes>"
      ]
     },
     "metadata": {},
     "output_type": "display_data"
    }
   ],
   "source": [
    "#summary for loss\n",
    "plt.plot(history.history['loss'])\n",
    "plt.plot(history.history['val_loss'])\n",
    "plt.title('model loss')\n",
    "plt.ylabel('loss')\n",
    "plt.xlabel('epochs')\n",
    "plt.legend(['train', 'CV'], loc='upper left')\n",
    "plt.show()"
   ]
  },
  {
   "cell_type": "code",
   "execution_count": 67,
   "id": "0dc10f2c-9819-4767-b4bc-80ca7165427b",
   "metadata": {},
   "outputs": [
    {
     "data": {
      "image/png": "[encoded data removed]",
      "text/plain": [
       "<Figure size 640x480 with 1 Axes>"
      ]
     },
     "metadata": {},
     "output_type": "display_data"
    }
   ],
   "source": [
    "#summary for accuracy\n",
    "plt.plot(history.history['accuracy'])\n",
    "plt.plot(history.history['val_accuracy'])\n",
    "plt.title('model accuracy')\n",
    "plt.ylabel('accuracy')\n",
    "plt.xlabel('epochs')\n",
    "plt.legend(['train', 'CV'], loc='upper left')\n",
    "plt.show()"
   ]
  },
  {
   "cell_type": "code",
   "execution_count": 68,
   "id": "b8ac12e5-502c-46bd-87ae-1efb64eb06f7",
   "metadata": {},
   "outputs": [],
   "source": [
    "prediction_train = get_predictions(X_train)\n"
   ]
  },
  {
   "cell_type": "code",
   "execution_count": 69,
   "id": "1edf0c76-4a98-4d1f-a925-4b7e45008bc7",
   "metadata": {},
   "outputs": [
    {
     "name": "stdout",
     "output_type": "stream",
     "text": [
      "Accuracy: 90.27%\n"
     ]
    }
   ],
   "source": [
    "calculate_accuracy(y_train, prediction_train)\n"
   ]
  },
  {
   "cell_type": "code",
   "execution_count": 70,
   "id": "302ecc47-9d86-49e5-99b4-c91a95322772",
   "metadata": {},
   "outputs": [
    {
     "name": "stdout",
     "output_type": "stream",
     "text": [
      "Precision:  0.76\n",
      "Recall:  0.50\n",
      "f1 score:  0.61\n"
     ]
    },
    {
     "data": {
      "image/png": "[encoded data removed]",
      "text/plain": [
       "<Figure size 640x480 with 1 Axes>"
      ]
     },
     "metadata": {},
     "output_type": "display_data"
    }
   ],
   "source": [
    "print_confusion_matrix(y_train, prediction_train)"
   ]
  },
  {
   "cell_type": "code",
   "execution_count": 71,
   "id": "145e63f2-9d6b-4790-8f09-1596eef821fb",
   "metadata": {},
   "outputs": [
    {
     "name": "stdout",
     "output_type": "stream",
     "text": [
      "Accuracy: 87.20%\n"
     ]
    }
   ],
   "source": [
    "#get accuracy for the CV set\n",
    "prediction_cv = get_predictions(X_cv)\n",
    "calculate_accuracy(y_cv, prediction_cv)"
   ]
  },
  {
   "cell_type": "code",
   "execution_count": 72,
   "id": "dace143e-7296-4c79-967c-d480ef1d0475",
   "metadata": {},
   "outputs": [
    {
     "name": "stdout",
     "output_type": "stream",
     "text": [
      "Evalulate on test data\n",
      "\u001b[1m32/32\u001b[0m \u001b[32m━━━━━━━━━━━━━━━━━━━━\u001b[0m\u001b[37m\u001b[0m \u001b[1m0s\u001b[0m 1ms/step - accuracy: 0.8892 - loss: 0.2732  \n",
      "Test loss, test accuracy: [0.27129238843917847, 0.8899999856948853]\n"
     ]
    }
   ],
   "source": [
    "#evalulate the model on the test set\n",
    "print(\"Evalulate on test data\")\n",
    "results = model.evaluate(X_test, y_test)\n",
    "print(f\"Test loss, test accuracy: {results}\")"
   ]
  },
  {
   "cell_type": "code",
   "execution_count": 73,
   "id": "7faad2fd-8a1b-4d80-9bbe-ec21029e0e6b",
   "metadata": {},
   "outputs": [
    {
     "name": "stdout",
     "output_type": "stream",
     "text": [
      "Accuracy: 89.00%\n"
     ]
    }
   ],
   "source": [
    "#deterine the prediction accuracy\n",
    "prediction_test = get_predictions(X_test)\n",
    "calculate_accuracy(y_test, prediction_test)"
   ]
  }
 ],
 "metadata": {
  "kernelspec": {
   "display_name": "Python 3 (ipykernel)",
   "language": "python",
   "name": "python3"
  },
  "language_info": {
   "codemirror_mode": {
    "name": "ipython",
    "version": 3
   },
   "file_extension": ".py",
   "mimetype": "text/x-python",
   "name": "python",
   "nbconvert_exporter": "python",
   "pygments_lexer": "ipython3",
   "version": "3.9.13"
  }
 },
 "nbformat": 4,
 "nbformat_minor": 5
}
